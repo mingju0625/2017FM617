{
 "cells": [
  {
   "cell_type": "code",
   "execution_count": 1,
   "metadata": {
    "collapsed": true
   },
   "outputs": [],
   "source": [
    "import requests\n",
    "from bs4 import BeautifulSoup"
   ]
  },
  {
   "cell_type": "code",
   "execution_count": 2,
   "metadata": {
    "collapsed": true
   },
   "outputs": [],
   "source": [
    "from util import get_news_article"
   ]
  },
  {
   "cell_type": "code",
   "execution_count": 3,
   "metadata": {
    "collapsed": true
   },
   "outputs": [],
   "source": [
    "url = \"https://news.cnyes.com/news/id/3969489\""
   ]
  },
  {
   "cell_type": "code",
   "execution_count": 4,
   "metadata": {},
   "outputs": [
    {
     "name": "stdout",
     "output_type": "stream",
     "text": [
      "\n",
      "化解麥寮電廠空氣汙染爭議，行政院要求將目前超臨界機組升級為超超臨界，不被台塑集團接受。經濟部長沈榮津今 (20) 日指出，仍會鼓勵麥電往超超臨界機組方向推動，經濟部願意協助解決困難。他並透露，至 2025 年，麥電不排除進一步改為天然氣發電。\n",
      "在生煤許可用罄下，台塑麥寮電廠 1、2 號機 11 月起被迫停機無法發電，行政院並要求台塑，將麥寮電廠的超臨界機組改成超超臨界機組。台塑集團總裁王文淵 15 日拜會行政院長賴清德，表達超超臨界機組投資成本上千億，發電效率僅提升 1.9% ，不傾向支持的立場。\n",
      "經濟部長沈榮津則指出，會鼓勵台塑先往超超臨界機組推動，排放量即可與燃氣機組相當，是一件好事。他並透露，台塑最近已跟雲林縣政府談到燃氣機組議題，不排除升級超超臨界後 7-8 年，大約到 2025 年，可以再往燃氣機組發展。\n",
      "沈榮津強調，與王文淵是老朋友，已經向他表達，在電廠升級過程如果遭遇困難，可以尋求經濟部協助。\n",
      " \n",
      "『新聞來源／NOWnews http://www.nownews.com/』\n",
      "\n"
     ]
    }
   ],
   "source": [
    "news_text = get_news_article(url)\n",
    "print(news_text)"
   ]
  },
  {
   "cell_type": "code",
   "execution_count": 8,
   "metadata": {},
   "outputs": [
    {
     "name": "stderr",
     "output_type": "stream",
     "text": [
      "C:\\Users\\user\\Anaconda3\\lib\\site-packages\\bs4\\__init__.py:181: UserWarning: No parser was explicitly specified, so I'm using the best available HTML parser for this system (\"lxml\"). This usually isn't a problem, but if you run this code on another system, or in a different virtual environment, it may use a different parser and behave differently.\n",
      "\n",
      "The code that caused this warning is on line 193 of the file C:\\Users\\user\\Anaconda3\\lib\\runpy.py. To get rid of this warning, change code that looks like this:\n",
      "\n",
      " BeautifulSoup(YOUR_MARKUP})\n",
      "\n",
      "to this:\n",
      "\n",
      " BeautifulSoup(YOUR_MARKUP, \"lxml\")\n",
      "\n",
      "  markup_type=markup_type))\n"
     ]
    }
   ],
   "source": [
    "r = requests.get(url)\n",
    "r.encoding = \"UTF-8\"\n",
    "soup = BeautifulSoup(r.text)"
   ]
  },
  {
   "cell_type": "code",
   "execution_count": 9,
   "metadata": {},
   "outputs": [
    {
     "data": {
      "text/plain": [
       "'化解麥寮電廠空氣汙染爭議，行政院要求將目前超臨界機組升級為超超臨界，不被台塑集團接受。經濟部長沈榮津今 (20) 日指出，仍會鼓勵麥電往超超臨界機組方向推動，經濟部願意協助解決困難。他並透露，至 2025 年，麥電不排除進一步改為天然氣發電。'"
      ]
     },
     "execution_count": 9,
     "metadata": {},
     "output_type": "execute_result"
    }
   ],
   "source": [
    "news_summary = soup.find(\"div\",{\"itemprop\":\"articleBody\"}).find_all(\"p\")[0].text\n",
    "news_summary"
   ]
  },
  {
   "cell_type": "code",
   "execution_count": 10,
   "metadata": {
    "collapsed": true
   },
   "outputs": [],
   "source": [
    "import jieba\n",
    "import jieba.analyse"
   ]
  },
  {
   "cell_type": "code",
   "execution_count": 11,
   "metadata": {
    "collapsed": true
   },
   "outputs": [],
   "source": [
    "jieba.set_dictionary('dict.txt.big')"
   ]
  },
  {
   "cell_type": "code",
   "execution_count": 12,
   "metadata": {},
   "outputs": [
    {
     "name": "stderr",
     "output_type": "stream",
     "text": [
      "Building prefix dict from C:\\Users\\user\\Desktop\\NSYSU_Python\\2017FM617\\dict.txt.big ...\n",
      "Dumping model to file cache C:\\Users\\user\\AppData\\Local\\Temp\\jieba.u5776f6b70801f87731b349f6463e2ae3.cache\n",
      "Loading model cost 1.883 seconds.\n",
      "Prefix dict has been built succesfully.\n"
     ]
    }
   ],
   "source": [
    "keywords = jieba.analyse.extract_tags(news_text, topK=10, withWeight=False)"
   ]
  },
  {
   "cell_type": "code",
   "execution_count": 14,
   "metadata": {},
   "outputs": [
    {
     "name": "stdout",
     "output_type": "stream",
     "text": [
      "機組/ 超臨界/ 台塑/ 電廠/ 升級/ 發電/ 燃氣/ 集團/ 經濟部長/ 沈榮津\n"
     ]
    }
   ],
   "source": [
    "print (\"/ \".join(keywords))"
   ]
  },
  {
   "cell_type": "code",
   "execution_count": 16,
   "metadata": {},
   "outputs": [
    {
     "data": {
      "text/plain": [
       "\"[('機組', 0.7853496899715329), ('超臨界', 0.6980886133080292), ('台塑', 0.5606743954729927), ('電廠', 0.3490443066540146), ('升級', 0.26178322999051096), ('發電', 0.26178322999051096), ('燃氣', 0.26178322999051096), ('集團', 0.1745221533270073), ('經濟部長', 0.1745221533270073), ('沈榮津', 0.1745221533270073), ('鼓勵', 0.1745221533270073), ('推動', 0.1745221533270073), ('經濟部', 0.1745221533270073), ('協助', 0.1745221533270073), ('他並', 0.1745221533270073), ('2025', 0.1745221533270073), ('王文淵', 0.1745221533270073), ('表達', 0.1745221533270073), ('行政院', 0.13676026509226277), ('排除', 0.09611867846408759)]\""
      ]
     },
     "execution_count": 16,
     "metadata": {},
     "output_type": "execute_result"
    }
   ],
   "source": [
    "repr(jieba.analyse.extract_tags(news_text, topK=20, withWeight=True))"
   ]
  },
  {
   "cell_type": "code",
   "execution_count": 17,
   "metadata": {},
   "outputs": [
    {
     "data": {
      "text/plain": [
       "\"[('台塑', 1.0), ('效率', 0.7367123524977025), ('要求', 0.7003562571987995), ('行政院', 0.6969304739416624), ('改為', 0.49724419149460486), ('排除', 0.4938207944100572), ('透露', 0.47952070094995247), ('成本', 0.3749901103613751), ('提升', 0.3749901103613751), ('汙染', 0.3583947289413527), ('好事', 0.2678560646781583), ('接受', 0.2301103973362093), ('指出', 0.2301103973362093)]\""
      ]
     },
     "execution_count": 17,
     "metadata": {},
     "output_type": "execute_result"
    }
   ],
   "source": [
    "repr(jieba.analyse.textrank(news_text, topK=20, withWeight=True))"
   ]
  },
  {
   "cell_type": "code",
   "execution_count": 18,
   "metadata": {
    "collapsed": true
   },
   "outputs": [],
   "source": [
    "def index_of_keyword(sentences, keyword):\n",
    "    for i, s in enumerate(sentences):\n",
    "        if keyword in s:\n",
    "              return i\n",
    "    return -1"
   ]
  },
  {
   "cell_type": "code",
   "execution_count": 19,
   "metadata": {},
   "outputs": [
    {
     "data": {
      "text/plain": [
       "9"
      ]
     },
     "execution_count": 19,
     "metadata": {},
     "output_type": "execute_result"
    }
   ],
   "source": [
    "sentences = news_text.replace(\"\\n\",\"\").split(u\"。\")\n",
    "len(sentences)"
   ]
  },
  {
   "cell_type": "code",
   "execution_count": 20,
   "metadata": {},
   "outputs": [
    {
     "name": "stdout",
     "output_type": "stream",
     "text": [
      "化解麥寮電廠空氣汙染爭議，行政院要求將目前超臨界機組升級為超超臨界，不被台塑集團接受。\n",
      "經濟部長沈榮津今 (20) 日指出，仍會鼓勵麥電往超超臨界機組方向推動，經濟部願意協助解決困難。\n",
      "他並透露，至 2025 年，麥電不排除進一步改為天然氣發電。\n",
      "在生煤許可用罄下，台塑麥寮電廠 1、2 號機 11 月起被迫停機無法發電，行政院並要求台塑，將麥寮電廠的超臨界機組改成超超臨界機組。\n",
      "台塑集團總裁王文淵 15 日拜會行政院長賴清德，表達超超臨界機組投資成本上千億，發電效率僅提升 1.9% ，不傾向支持的立場。\n",
      "經濟部長沈榮津則指出，會鼓勵台塑先往超超臨界機組推動，排放量即可與燃氣機組相當，是一件好事。\n",
      "他並透露，台塑最近已跟雲林縣政府談到燃氣機組議題，不排除升級超超臨界後 7-8 年，大約到 2025 年，可以再往燃氣機組發展。\n",
      "沈榮津強調，與王文淵是老朋友，已經向他表達，在電廠升級過程如果遭遇困難，可以尋求經濟部協助。\n",
      " 『新聞來源／NOWnews http://www.nownews.com/』。\n"
     ]
    }
   ],
   "source": [
    "for sentence in sentences:\n",
    "    print (sentence + u\"。\")"
   ]
  },
  {
   "cell_type": "code",
   "execution_count": 21,
   "metadata": {},
   "outputs": [
    {
     "name": "stdout",
     "output_type": "stream",
     "text": [
      "化解麥寮電廠空氣汙染爭議，行政院要求將目前超臨界機組升級為超超臨界，不被台塑集團接受。\n"
     ]
    }
   ],
   "source": [
    "index_of_keyword(sentences,u\"台塑\")\n",
    "print (sentences[index_of_keyword(sentences,u\"台塑\")]+u\"。\")"
   ]
  },
  {
   "cell_type": "code",
   "execution_count": null,
   "metadata": {
    "collapsed": true
   },
   "outputs": [],
   "source": [
    "print sentences[index_of_keyword(sentences,u\"紫光\")]+u\"。\""
   ]
  },
  {
   "cell_type": "code",
   "execution_count": 22,
   "metadata": {},
   "outputs": [
    {
     "data": {
      "text/plain": [
       "42"
      ]
     },
     "execution_count": 22,
     "metadata": {},
     "output_type": "execute_result"
    }
   ],
   "source": [
    "len(sentences[0])"
   ]
  },
  {
   "cell_type": "code",
   "execution_count": 23,
   "metadata": {
    "collapsed": true
   },
   "outputs": [],
   "source": [
    "s_index = []\n",
    "for keyword in keywords[:3]:\n",
    "    s_index.append(index_of_keyword(sentences,keyword))\n",
    "\n",
    "s_set = set(s_index)\n",
    "s_index = list(s_set)"
   ]
  },
  {
   "cell_type": "code",
   "execution_count": 24,
   "metadata": {
    "collapsed": true
   },
   "outputs": [],
   "source": [
    "summary = \"\"\n",
    "for i in s_index:\n",
    "    summary += sentences[i]+u\"。\""
   ]
  },
  {
   "cell_type": "code",
   "execution_count": 27,
   "metadata": {},
   "outputs": [
    {
     "name": "stdout",
     "output_type": "stream",
     "text": [
      "化解麥寮電廠空氣汙染爭議，行政院要求將目前超臨界機組升級為超超臨界，不被台塑集團接受。\n"
     ]
    }
   ],
   "source": [
    "print (summary)"
   ]
  },
  {
   "cell_type": "code",
   "execution_count": 28,
   "metadata": {},
   "outputs": [
    {
     "name": "stdout",
     "output_type": "stream",
     "text": [
      "化解麥寮電廠空氣汙染爭議，行政院要求將目前超臨界機組升級為超超臨界，不被台塑集團接受。經濟部長沈榮津今 (20) 日指出，仍會鼓勵麥電往超超臨界機組方向推動，經濟部願意協助解決困難。他並透露，至 2025 年，麥電不排除進一步改為天然氣發電。\n"
     ]
    }
   ],
   "source": [
    "print (news_summary)"
   ]
  }
 ],
 "metadata": {
  "kernelspec": {
   "display_name": "Python 3",
   "language": "python",
   "name": "python3"
  },
  "language_info": {
   "codemirror_mode": {
    "name": "ipython",
    "version": 3
   },
   "file_extension": ".py",
   "mimetype": "text/x-python",
   "name": "python",
   "nbconvert_exporter": "python",
   "pygments_lexer": "ipython3",
   "version": "3.6.2"
  }
 },
 "nbformat": 4,
 "nbformat_minor": 2
}
