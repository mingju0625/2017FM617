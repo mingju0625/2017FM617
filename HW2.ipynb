{
 "cells": [
  {
   "cell_type": "code",
   "execution_count": 2,
   "metadata": {
    "collapsed": true
   },
   "outputs": [],
   "source": [
    "#載入模組\n",
    "import os"
   ]
  },
  {
   "cell_type": "code",
   "execution_count": 3,
   "metadata": {
    "collapsed": true
   },
   "outputs": [],
   "source": [
    "# 這是main()註解\n",
    "def main():\n",
    "    print('hello world')"
   ]
  },
  {
   "cell_type": "code",
   "execution_count": 4,
   "metadata": {},
   "outputs": [
    {
     "name": "stdout",
     "output_type": "stream",
     "text": [
      "hello world\n"
     ]
    }
   ],
   "source": [
    "#當打出main()跑出'hello world'\n",
    "main()"
   ]
  },
  {
   "cell_type": "code",
   "execution_count": 5,
   "metadata": {},
   "outputs": [
    {
     "name": "stdout",
     "output_type": "stream",
     "text": [
      "This is Alice's greeting\n",
      "This is Bob's greeting\n"
     ]
    }
   ],
   "source": [
    "#在print()裡打出'字串'print出來，其中雙引號,單引號皆可。\n",
    "print(\"This is Alice's greeting\")\n",
    "print('This is Bob\\'s greeting')"
   ]
  },
  {
   "cell_type": "code",
   "execution_count": 27,
   "metadata": {},
   "outputs": [
    {
     "name": "stdout",
     "output_type": "stream",
     "text": [
      "5 plus 10 is equal to 15\n",
      "foo\n"
     ]
    },
    {
     "data": {
      "text/plain": [
       "15"
      ]
     },
     "execution_count": 27,
     "metadata": {},
     "output_type": "execute_result"
    }
   ],
   "source": [
    "#函式定義\n",
    "foo(5,10)"
   ]
  },
  {
   "cell_type": "code",
   "execution_count": 7,
   "metadata": {},
   "outputs": [
    {
     "name": "stdout",
     "output_type": "stream",
     "text": [
      "==========\n"
     ]
    }
   ],
   "source": [
    "#將\"=\"符號弄成字串形式，將他乘10後如以下\n",
    "print('='*10)"
   ]
  },
  {
   "cell_type": "code",
   "execution_count": 8,
   "metadata": {},
   "outputs": [
    {
     "name": "stdout",
     "output_type": "stream",
     "text": [
      "current working directory isC:\\Users\\user\\Desktop\\F_python\\2017FM617\n"
     ]
    }
   ],
   "source": [
    "#正在運行的資料夾並且叫出函數os\n",
    "print('current working directory is'+os.getcwd())"
   ]
  },
  {
   "cell_type": "code",
   "execution_count": 10,
   "metadata": {
    "collapsed": true
   },
   "outputs": [],
   "source": [
    "#變數舉例說明\n",
    "counter = 0\n",
    "counter += 1"
   ]
  },
  {
   "cell_type": "code",
   "execution_count": 11,
   "metadata": {
    "collapsed": true
   },
   "outputs": [],
   "source": [
    "#定義字串\n",
    "food=['apples','oranges','cates']"
   ]
  },
  {
   "cell_type": "code",
   "execution_count": 12,
   "metadata": {},
   "outputs": [
    {
     "name": "stdout",
     "output_type": "stream",
     "text": [
      "I like to eat apples\n",
      "I like to eat oranges\n",
      "I like to eat cates\n"
     ]
    }
   ],
   "source": [
    "#運行for迴圈，i定義為food，並印出 I like to eat i,for i = food\n",
    "for i in food:\n",
    "    print('I like to eat ' + i)"
   ]
  },
  {
   "cell_type": "code",
   "execution_count": 21,
   "metadata": {},
   "outputs": [
    {
     "name": "stdout",
     "output_type": "stream",
     "text": [
      "count to ten\n",
      "0\n",
      "1\n",
      "2\n",
      "3\n",
      "4\n",
      "5\n",
      "6\n",
      "7\n",
      "8\n",
      "9\n"
     ]
    }
   ],
   "source": [
    "#使用for迴圈從0屬到9總共10個數字，i為0~9的10個數字\n",
    "print('count to ten')\n",
    "for i in range(10):\n",
    "    print(i)"
   ]
  },
  {
   "cell_type": "code",
   "execution_count": 23,
   "metadata": {},
   "outputs": [
    {
     "data": {
      "text/plain": [
       "' A multi-line string,but can also be a multi-line comment.'"
      ]
     },
     "execution_count": 23,
     "metadata": {},
     "output_type": "execute_result"
    }
   ],
   "source": [
    "#定義foo(參數1,參數2)，且定義res=參數1+參數2\n",
    "def foo(param1,secondParam):\n",
    "    res = param1 + secondParam\n",
    "    \n",
    "    print(('%s plus %s is equal to %s') % (param1,secondParam,res))\n",
    "    \n",
    "    if res<50:\n",
    "        print('foo')\n",
    "        \n",
    "    elif(res>=50)and((param1 == 42) or (secondParam == 24)):\n",
    "        print('bar')\n",
    "    \n",
    "    else:\n",
    "        print('moo')\n",
    "        \n",
    "    return res #This is a one-line comment.\n",
    "''' A multi-line string,but can also be a multi-line comment.'''"
   ]
  },
  {
   "cell_type": "code",
   "execution_count": 24,
   "metadata": {},
   "outputs": [
    {
     "name": "stdout",
     "output_type": "stream",
     "text": [
      "20 plus 20 is equal to 40\n",
      "foo\n"
     ]
    },
    {
     "data": {
      "text/plain": [
       "40"
      ]
     },
     "execution_count": 24,
     "metadata": {},
     "output_type": "execute_result"
    }
   ],
   "source": [
    "#例如(param1=20,secondParam=20),則等於 20 plus 20 is equal to 40,由if函數能知道 res=40為if \n",
    "foo(param1=20,secondParam=20)"
   ]
  },
  {
   "cell_type": "code",
   "execution_count": 25,
   "metadata": {},
   "outputs": [
    {
     "name": "stdout",
     "output_type": "stream",
     "text": [
      "42 plus 20 is equal to 62\n",
      "bar\n"
     ]
    },
    {
     "data": {
      "text/plain": [
       "62"
      ]
     },
     "execution_count": 25,
     "metadata": {},
     "output_type": "execute_result"
    }
   ],
   "source": [
    "#例如(param1=42,secondParam=20),則等於 42 plus 20 is equal to 62,由if ,elif,else 函數能知道 res>=50且param1=42為elif,print('bar')\n",
    "foo(param1=42,secondParam=20)"
   ]
  },
  {
   "cell_type": "code",
   "execution_count": 26,
   "metadata": {},
   "outputs": [
    {
     "name": "stdout",
     "output_type": "stream",
     "text": [
      "hello world\n"
     ]
    }
   ],
   "source": [
    "#用 __name__ 就可以分辨我的程式是被 import 當成模組還是被直接執行的,以下直接被執行。\n",
    "if __name__ == \"__main__\":\n",
    "    main()"
   ]
  },
  {
   "cell_type": "code",
   "execution_count": null,
   "metadata": {
    "collapsed": true
   },
   "outputs": [],
   "source": []
  }
 ],
 "metadata": {
  "kernelspec": {
   "display_name": "Python 3",
   "language": "python",
   "name": "python3"
  },
  "language_info": {
   "codemirror_mode": {
    "name": "ipython",
    "version": 3
   },
   "file_extension": ".py",
   "mimetype": "text/x-python",
   "name": "python",
   "nbconvert_exporter": "python",
   "pygments_lexer": "ipython3",
   "version": "3.6.2"
  }
 },
 "nbformat": 4,
 "nbformat_minor": 2
}
